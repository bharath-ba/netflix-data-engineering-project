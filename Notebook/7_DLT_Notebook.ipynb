{
 "cells": [
  {
   "cell_type": "markdown",
   "metadata": {
    "application/vnd.databricks.v1+cell": {
     "cellMetadata": {},
     "inputWidgets": {},
     "nuid": "a2fd44ff-2425-4e39-8ca1-7e387cf14d16",
     "showTitle": false,
     "tableResultSettingsMap": {},
     "title": ""
    }
   },
   "source": [
    "#DLT Notebook - Gold Layer"
   ]
  },
  {
   "cell_type": "code",
   "execution_count": 0,
   "metadata": {
    "application/vnd.databricks.v1+cell": {
     "cellMetadata": {},
     "inputWidgets": {},
     "nuid": "1b9b47f5-abeb-4216-a0fe-6fb4adaae240",
     "showTitle": false,
     "tableResultSettingsMap": {},
     "title": ""
    }
   },
   "outputs": [],
   "source": [
    "lookuptables_rules = {\n",
    "    \"rule1\":\"show_id is NOT NULL\"\n",
    "}"
   ]
  },
  {
   "cell_type": "code",
   "execution_count": 0,
   "metadata": {
    "application/vnd.databricks.v1+cell": {
     "cellMetadata": {},
     "inputWidgets": {},
     "nuid": "350c8955-6c38-42df-874e-abadeeda0d93",
     "showTitle": false,
     "tableResultSettingsMap": {},
     "title": ""
    }
   },
   "outputs": [],
   "source": [
    "@dlt.table(\n",
    "    name=\"gold_netflixdirectors\"\n",
    ")\n",
    "\n",
    "@dlt.expect_all_or_drop(lookuptables_rules)\n",
    "def myfunc():\n",
    "    df = spark.readStream.format(\"delta\").load(\"abfss://silver@netflixprojectdlba.dfs.core.windows.net/netflix_directors\")\n",
    "    return df"
   ]
  },
  {
   "cell_type": "code",
   "execution_count": 0,
   "metadata": {
    "application/vnd.databricks.v1+cell": {
     "cellMetadata": {},
     "inputWidgets": {},
     "nuid": "fb7ff3ce-9701-4504-8820-68504de798c6",
     "showTitle": false,
     "tableResultSettingsMap": {},
     "title": ""
    }
   },
   "outputs": [],
   "source": [
    "@dlt.table(\n",
    "    name=\"gold_netflixcast\"\n",
    ")\n",
    "\n",
    "@dlt.expect_all_or_drop(lookuptables_rules)\n",
    "def myfunc():\n",
    "    df = spark.readStream.format(\"delta\").load(\"abfss://silver@netflixprojectdlba.dfs.core.windows.net/netflix_cast\")\n",
    "    return df\n"
   ]
  },
  {
   "cell_type": "code",
   "execution_count": 0,
   "metadata": {
    "application/vnd.databricks.v1+cell": {
     "cellMetadata": {},
     "inputWidgets": {},
     "nuid": "af3203be-da72-471a-abc1-39cc4287ca5e",
     "showTitle": false,
     "tableResultSettingsMap": {},
     "title": ""
    }
   },
   "outputs": [],
   "source": [
    "@dlt.table(\n",
    "    name=\"gold_netflixcountries\"\n",
    ")\n",
    "\n",
    "@dlt.expect_all_or_drop(lookuptables_rules)\n",
    "def myfunc():\n",
    "    df = spark.readStream.format(\"delta\").load(\"abfss://silver@netflixprojectdlba.dfs.core.windows.net/netflix_countries\")\n",
    "    return df\n"
   ]
  },
  {
   "cell_type": "code",
   "execution_count": 0,
   "metadata": {
    "application/vnd.databricks.v1+cell": {
     "cellMetadata": {},
     "inputWidgets": {},
     "nuid": "89e81386-2110-4b2e-b3b9-b9e05b98f99d",
     "showTitle": false,
     "tableResultSettingsMap": {},
     "title": ""
    }
   },
   "outputs": [],
   "source": [
    "@dlt.table(\n",
    "    name=\"gold_netflixcategory\"\n",
    ")\n",
    "\n",
    "@dlt.expect_or_drop(\"rule1\", \"show_id is NOT NULL\")\n",
    "def myfunc():\n",
    "    df = spark.readStream.format(\"delta\").load(\"abfss://silver@netflixprojectdlba.dfs.core.windows.net/netflix_category\")\n",
    "    return df\n"
   ]
  },
  {
   "cell_type": "code",
   "execution_count": 0,
   "metadata": {
    "application/vnd.databricks.v1+cell": {
     "cellMetadata": {},
     "inputWidgets": {},
     "nuid": "19778cb9-3f30-4abc-8343-6b70e2d8cea1",
     "showTitle": false,
     "tableResultSettingsMap": {},
     "title": ""
    }
   },
   "outputs": [],
   "source": [
    "@dlt.table\n",
    "\n",
    "def gold_stg_netflixtitles():\n",
    "    df = spark.readStream.format(\"delta\").load(\"abfss://silver@netflixprojectdlba.dfs.core.windows.net/netflix_titles\")\n",
    "    return df"
   ]
  },
  {
   "cell_type": "code",
   "execution_count": 0,
   "metadata": {
    "application/vnd.databricks.v1+cell": {
     "cellMetadata": {},
     "inputWidgets": {},
     "nuid": "5f83fc17-1e0c-42bd-9f07-250016a20d5f",
     "showTitle": false,
     "tableResultSettingsMap": {},
     "title": ""
    }
   },
   "outputs": [],
   "source": [
    "from pyspark.sql.functions import *"
   ]
  },
  {
   "cell_type": "code",
   "execution_count": 0,
   "metadata": {
    "application/vnd.databricks.v1+cell": {
     "cellMetadata": {},
     "inputWidgets": {},
     "nuid": "ecdcb203-5e66-4604-a8b0-54bb7817871e",
     "showTitle": false,
     "tableResultSettingsMap": {},
     "title": ""
    }
   },
   "outputs": [],
   "source": [
    "@dlt.view\n",
    "\n",
    "def gold_trns_netflixtitles():\n",
    "    df = spark.readStream.table(\"LIVE.gold_stg_netflixtitles\")\n",
    "    df = df.withColumn(\"newflag\",lit(1))\n",
    "    return df"
   ]
  },
  {
   "cell_type": "code",
   "execution_count": 0,
   "metadata": {
    "application/vnd.databricks.v1+cell": {
     "cellMetadata": {},
     "inputWidgets": {},
     "nuid": "4d68b05c-a887-49e5-b6d0-525635d779f4",
     "showTitle": false,
     "tableResultSettingsMap": {},
     "title": ""
    }
   },
   "outputs": [],
   "source": [
    "masterdata_rules = {\n",
    "    \"rule1\" : \"newflag is NOT NULL\",\n",
    "}"
   ]
  },
  {
   "cell_type": "code",
   "execution_count": 0,
   "metadata": {
    "application/vnd.databricks.v1+cell": {
     "cellMetadata": {},
     "inputWidgets": {},
     "nuid": "863f121c-6354-4f31-9ec7-23435e0b73e5",
     "showTitle": false,
     "tableResultSettingsMap": {},
     "title": ""
    }
   },
   "outputs": [],
   "source": [
    "@dlt.table\n",
    "\n",
    "@dlt.expect_all_or_drop(masterdata_rules)\n",
    "def gold_netflixtitles():\n",
    "    df = spark.readStream.table(\"LIVE.gold_trns_netflixtitles\")\n",
    "    return df"
   ]
  },
  {
   "cell_type": "code",
   "execution_count": 0,
   "metadata": {
    "application/vnd.databricks.v1+cell": {
     "cellMetadata": {},
     "inputWidgets": {},
     "nuid": "309b0345-c9be-4533-8468-6bfc3906e234",
     "showTitle": false,
     "tableResultSettingsMap": {},
     "title": ""
    }
   },
   "outputs": [],
   "source": []
  }
 ],
 "metadata": {
  "application/vnd.databricks.v1+notebook": {
   "computePreferences": null,
   "dashboards": [],
   "environmentMetadata": {
    "base_environment": "",
    "environment_version": "2"
   },
   "inputWidgetPreferences": null,
   "language": "python",
   "notebookMetadata": {
    "pythonIndentUnit": 4
   },
   "notebookName": "7_DLT_Notebook",
   "widgets": {}
  },
  "language_info": {
   "name": "python"
  }
 },
 "nbformat": 4,
 "nbformat_minor": 0
}